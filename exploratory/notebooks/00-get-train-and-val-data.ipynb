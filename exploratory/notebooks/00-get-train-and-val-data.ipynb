{
 "cells": [
  {
   "cell_type": "code",
   "execution_count": 1,
   "id": "39625f3e",
   "metadata": {},
   "outputs": [],
   "source": [
    "import sys\n",
    "import os\n",
    "sys.path.append(os.path.abspath(\"../..\"))\n",
    "\n",
    "from scipy.stats import f_oneway\n",
    "import matplotlib.pyplot as plt\n",
    "import seaborn as sns\n",
    "from sklearn.preprocessing import StandardScaler\n",
    "from sklearn.ensemble import RandomForestClassifier\n",
    "from sklearn.model_selection import train_test_split\n",
    "from sklearn.manifold import TSNE\n",
    "from sklearn.decomposition import PCA\n",
    "import plotly.express as px\n",
    "import pandas as pd\n",
    "import numpy as np\n",
    "from tqdm import tqdm"
   ]
  },
  {
   "cell_type": "markdown",
   "id": "22210ad7",
   "metadata": {},
   "source": [
    "### Carregando os dados integralmente"
   ]
  },
  {
   "cell_type": "code",
   "execution_count": 2,
   "id": "d71ed059",
   "metadata": {},
   "outputs": [],
   "source": [
    "df_agg_cod = pd.read_excel(\n",
    "    '../../datasets/intermediate/HS_agregado_codificado_20windows.xlsx')"
   ]
  },
  {
   "cell_type": "markdown",
   "id": "f3d3a1e0",
   "metadata": {},
   "source": [
    "### Separando em treino e validação."
   ]
  },
  {
   "cell_type": "code",
   "execution_count": 3,
   "id": "986fab6a",
   "metadata": {},
   "outputs": [],
   "source": [
    "colunas_classes = [\n",
    "    col for col in df_agg_cod.columns if col.startswith('Heart Sound Type_')]\n",
    "\n",
    "X_total = df_agg_cod.drop(columns=colunas_classes)\n",
    "y_total = df_agg_cod[\"Heart Sound Type_Normal\"]\n",
    "\n",
    "X_train, X_val, y_train, y_val = train_test_split(\n",
    "    X_total, y_total, test_size=0.2, stratify=y_total)\n",
    "\n",
    "X_train.assign(Normal=y_train).to_excel(\n",
    "    \"../../datasets/train/train_binario.xlsx\", index=False)\n",
    "X_val.assign(Normal=y_val).to_excel(\n",
    "    \"../../datasets/val/val_binario.xlsx\", index=False)"
   ]
  }
 ],
 "metadata": {
  "kernelspec": {
   "display_name": "sensory-translation",
   "language": "python",
   "name": "python3"
  },
  "language_info": {
   "codemirror_mode": {
    "name": "ipython",
    "version": 3
   },
   "file_extension": ".py",
   "mimetype": "text/x-python",
   "name": "python",
   "nbconvert_exporter": "python",
   "pygments_lexer": "ipython3",
   "version": "3.10.16"
  }
 },
 "nbformat": 4,
 "nbformat_minor": 5
}
