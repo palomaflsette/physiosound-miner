{
 "cells": [
  {
   "cell_type": "markdown",
   "id": "f7c32a73",
   "metadata": {},
   "source": [
    "# Salvar os vetores num .csv"
   ]
  }
 ],
 "metadata": {
  "language_info": {
   "name": "python"
  }
 },
 "nbformat": 4,
 "nbformat_minor": 5
}
