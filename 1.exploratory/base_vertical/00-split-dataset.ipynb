{
 "cells": [
  {
   "cell_type": "code",
   "execution_count": 31,
   "id": "39625f3e",
   "metadata": {},
   "outputs": [],
   "source": [
    "import sys\n",
    "import os\n",
    "sys.path.append(os.path.abspath(\"../..\"))\n",
    "\n",
    "from tqdm import tqdm\n",
    "import pandas as pd\n",
    "import numpy as np\n",
    "from scipy.stats import f_oneway\n",
    "import matplotlib.pyplot as plt\n",
    "from sklearn.manifold import TSNE\n",
    "import seaborn as sns\n",
    "import plotly.express as px\n",
    "from sklearn.model_selection import GroupKFold\n",
    "from sklearn.preprocessing import StandardScaler\n",
    "from sklearn.ensemble import RandomForestClassifier\n",
    "from sklearn.model_selection import train_test_split\n",
    "\n",
    "\n",
    "from sklearn.decomposition import PCA\n"
   ]
  },
  {
   "cell_type": "markdown",
   "id": "22210ad7",
   "metadata": {},
   "source": [
    "### Carregando os dados integralmente"
   ]
  },
  {
   "cell_type": "code",
   "execution_count": null,
   "id": "d71ed059",
   "metadata": {},
   "outputs": [],
   "source": [
    "df_agg_cod = pd.read_excel(\n",
    "    '../../datasets/base_vertical/intermediate/HS_agregado_codificado_20windows.xlsx')"
   ]
  },
  {
   "cell_type": "markdown",
   "id": "e25418b3",
   "metadata": {},
   "source": [
    "### dividindo os grupos (Heart Sound ID) em treino/validação/teste"
   ]
  },
  {
   "cell_type": "markdown",
   "id": "41e18624",
   "metadata": {},
   "source": [
    "#### Passo 1: obter a classe dominante (Normal ou não) por 'Heart Sound ID'\n",
    "\n",
    "Assumimos: se 'Heart Sound Type_Normal' == 1 -> Normal; senão -> Anormal"
   ]
  },
  {
   "cell_type": "code",
   "execution_count": 14,
   "id": "acdbd2fb",
   "metadata": {},
   "outputs": [],
   "source": [
    "df = df_agg_cod.copy()\n",
    "\n",
    "df['Heart Sound ID'] = df['Heart Sound ID'].astype(str)\n",
    "group_labels_df = df.groupby('Heart Sound ID')['Heart Sound Type_Normal'].agg(\n",
    "    lambda x: int(x.mode()[0])).reset_index()\n",
    "\n",
    "group_ids = group_labels_df['Heart Sound ID']\n",
    "group_labels = group_labels_df['Heart Sound Type_Normal']\n"
   ]
  },
  {
   "cell_type": "markdown",
   "id": "bf8fdd8d",
   "metadata": {},
   "source": [
    "#### Passo 2: dividindo os grupos em treino+val e teste com estratificação\n"
   ]
  },
  {
   "cell_type": "code",
   "execution_count": 15,
   "id": "d9a17e45",
   "metadata": {},
   "outputs": [],
   "source": [
    "\n",
    "group_trainval, group_test = train_test_split(\n",
    "    group_ids, test_size=0.2, random_state=42, stratify=group_labels\n",
    ")\n"
   ]
  },
  {
   "cell_type": "markdown",
   "id": "8e27606b",
   "metadata": {},
   "source": [
    "#### Passo 3: Obtendo labels para o subset de treino+validação"
   ]
  },
  {
   "cell_type": "code",
   "execution_count": 16,
   "id": "962d914f",
   "metadata": {},
   "outputs": [],
   "source": [
    "\n",
    "trainval_mask = group_labels_df['Heart Sound ID'].isin(group_trainval)\n",
    "group_labels_trainval = group_labels_df[trainval_mask]['Heart Sound Type_Normal']\n"
   ]
  },
  {
   "cell_type": "markdown",
   "id": "3e2711ca",
   "metadata": {},
   "source": [
    "#### Passo 4: Dividir treino e validação com estratificação\n"
   ]
  },
  {
   "cell_type": "code",
   "execution_count": 17,
   "id": "6b2b4126",
   "metadata": {},
   "outputs": [],
   "source": [
    "\n",
    "group_train, group_val = train_test_split(\n",
    "    group_trainval, test_size=0.25, random_state=42, stratify=group_labels_trainval\n",
    ")\n"
   ]
  },
  {
   "cell_type": "markdown",
   "id": "27dac6fc",
   "metadata": {},
   "source": [
    "#### Passo 5: Filtrar os DataFrames com base nas divisões\n"
   ]
  },
  {
   "cell_type": "code",
   "execution_count": 18,
   "id": "138b6f89",
   "metadata": {},
   "outputs": [],
   "source": [
    "\n",
    "df_train = df[df['Heart Sound ID'].isin(group_train)].copy()\n",
    "df_val = df[df['Heart Sound ID'].isin(group_val)].copy()\n",
    "df_test = df[df['Heart Sound ID'].isin(group_test)].copy()\n"
   ]
  },
  {
   "cell_type": "markdown",
   "id": "0a90952e",
   "metadata": {},
   "source": [
    "##### Salvando"
   ]
  },
  {
   "cell_type": "code",
   "execution_count": 19,
   "id": "cc69a272",
   "metadata": {},
   "outputs": [
    {
     "data": {
      "text/plain": [
       "('../../datasets/base_vertical/train/train_stratified.csv',\n",
       " '../../datasets/base_vertical/val/val_stratified.csv',\n",
       " '../../datasets/base_vertical/test/test_stratified.csv')"
      ]
     },
     "execution_count": 19,
     "metadata": {},
     "output_type": "execute_result"
    }
   ],
   "source": [
    "\n",
    "output_dir = '../../datasets/base_vertical/'\n",
    "os.makedirs(output_dir, exist_ok=True)\n",
    "\n",
    "train_path = os.path.join(output_dir, \"train/train_stratified.csv\")\n",
    "val_path = os.path.join(output_dir, \"val/val_stratified.csv\")\n",
    "test_path = os.path.join(output_dir, \"test/test_stratified.csv\")\n",
    "\n",
    "df_train.to_csv(train_path, index=False)\n",
    "df_val.to_csv(val_path, index=False)\n",
    "df_test.to_csv(test_path, index=False)\n",
    "\n",
    "train_path, val_path, test_path"
   ]
  },
  {
   "cell_type": "markdown",
   "id": "ffe1853a",
   "metadata": {},
   "source": [
    "### Usando groupkfold"
   ]
  },
  {
   "cell_type": "code",
   "execution_count": null,
   "id": "19843341",
   "metadata": {},
   "outputs": [
    {
     "data": {
      "text/plain": [
       "[('..\\\\..\\\\datasets\\\\base_vertical\\\\groupkfold\\\\fold_1\\\\train.csv',\n",
       "  '..\\\\..\\\\datasets\\\\base_vertical\\\\groupkfold\\\\fold_1\\\\val.csv'),\n",
       " ('..\\\\..\\\\datasets\\\\base_vertical\\\\groupkfold\\\\fold_2\\\\train.csv',\n",
       "  '..\\\\..\\\\datasets\\\\base_vertical\\\\groupkfold\\\\fold_2\\\\val.csv'),\n",
       " ('..\\\\..\\\\datasets\\\\base_vertical\\\\groupkfold\\\\fold_3\\\\train.csv',\n",
       "  '..\\\\..\\\\datasets\\\\base_vertical\\\\groupkfold\\\\fold_3\\\\val.csv'),\n",
       " ('..\\\\..\\\\datasets\\\\base_vertical\\\\groupkfold\\\\fold_4\\\\train.csv',\n",
       "  '..\\\\..\\\\datasets\\\\base_vertical\\\\groupkfold\\\\fold_4\\\\val.csv'),\n",
       " ('..\\\\..\\\\datasets\\\\base_vertical\\\\groupkfold\\\\fold_5\\\\train.csv',\n",
       "  '..\\\\..\\\\datasets\\\\base_vertical\\\\groupkfold\\\\fold_5\\\\val.csv')]"
      ]
     },
     "execution_count": 37,
     "metadata": {},
     "output_type": "execute_result"
    }
   ],
   "source": [
    "\n",
    "n_splits = 5\n",
    "\n",
    "gkf = GroupKFold(n_splits=n_splits)\n",
    "\n",
    "groups = df['Heart Sound ID']\n",
    "X = df.drop(columns=[\"Heart Sound ID\"])\n",
    "# Usado apenas como placeholder; pode ser outro rótulo conforme o caso\n",
    "y = df[\"Heart Sound Type_Normal\"]\n",
    "\n",
    "fold_paths = []\n",
    "for fold, (train_idx, val_idx) in enumerate(gkf.split(X, y, groups)):\n",
    "    df_train = df.iloc[train_idx].copy()\n",
    "    df_val = df.iloc[val_idx].copy()\n",
    "\n",
    "    fold_dir = f\"..\\\\..\\\\datasets\\\\base_vertical\\\\groupkfold\\\\fold_{fold+1}\"\n",
    "    os.makedirs(fold_dir, exist_ok=True)\n",
    "\n",
    "    train_path = os.path.join(fold_dir, \"train.csv\")\n",
    "    val_path = os.path.join(fold_dir, \"val.csv\")\n",
    "\n",
    "    df_train.to_csv(train_path, index=False)\n",
    "    df_val.to_csv(val_path, index=False)\n",
    "\n",
    "    fold_paths.append((train_path, val_path))\n",
    "\n",
    "fold_paths"
   ]
  },
  {
   "cell_type": "markdown",
   "id": "4d76b6b1",
   "metadata": {},
   "source": [
    "### Normalizando os dados"
   ]
  },
  {
   "cell_type": "code",
   "execution_count": null,
   "id": "f791291c",
   "metadata": {},
   "outputs": [],
   "source": [
    "dummy_cols = [col for col in df_agg_cod.columns\n",
    "              if df_agg_cod[col].dropna().isin([0, 1]).all() and df_agg_cod[col].nunique() <= 2]\n",
    "non_dummy_cols = [col for col in df_agg_cod.columns if col not in dummy_cols]\n",
    "\n",
    "sca = StandardScaler()\n",
    "\n",
    "X_train_scaled = sca.fit_transform(X_train[non_dummy_cols])\n",
    "X_train = pd.DataFrame(X_train_scaled, columns=non_dummy_cols)\n",
    "\n",
    "\n",
    "X_val_scaled = sca.transform(X_val[non_dummy_cols])\n",
    "X_val = pd.DataFrame(X_val_scaled, columns=non_dummy_cols)\n",
    "\n",
    "\n",
    "X_train.to_excel(\n",
    "    \"../../datasets/base_vertical/train/train_binario_normalized.xlsx\", index=False)\n",
    "X_val.assign(Heart_Sound_Type_Normal=y_val).to_excel(\n",
    "    \"../../datasets/base_vertical/val/val_binario_normalized.xlsx\", index=False)"
   ]
  },
  {
   "cell_type": "code",
   "execution_count": null,
   "id": "78558945",
   "metadata": {},
   "outputs": [
    {
     "data": {
      "text/plain": [
       "Heart_Sound_Type_Normal      1.000000\n",
       "variacao_curvatura_std       0.071450\n",
       "comprimento_curva_std        0.059091\n",
       "mudanca_media_direcao_std    0.058131\n",
       "mfcc_1_mean                  0.057869\n",
       "                               ...   \n",
       "zero_crossing_rate_mean     -0.072901\n",
       "centro_y_mean               -0.123374\n",
       "rqa_fs_mean                       NaN\n",
       "rqa_embedding_dim_mean            NaN\n",
       "rqa_delay_mean                    NaN\n",
       "Name: Heart_Sound_Type_Normal, Length: 67, dtype: float64"
      ]
     },
     "execution_count": 22,
     "metadata": {},
     "output_type": "execute_result"
    }
   ],
   "source": [
    "X_train[\"Heart_Sound_Type_Normal\"] = y_train\n",
    "X_train.corr()[\"Heart_Sound_Type_Normal\"].sort_values(ascending=False)"
   ]
  },
  {
   "cell_type": "code",
   "execution_count": 23,
   "id": "1b44b237",
   "metadata": {},
   "outputs": [
    {
     "data": {
      "text/html": [
       "<div>\n",
       "<style scoped>\n",
       "    .dataframe tbody tr th:only-of-type {\n",
       "        vertical-align: middle;\n",
       "    }\n",
       "\n",
       "    .dataframe tbody tr th {\n",
       "        vertical-align: top;\n",
       "    }\n",
       "\n",
       "    .dataframe thead th {\n",
       "        text-align: right;\n",
       "    }\n",
       "</style>\n",
       "<table border=\"1\" class=\"dataframe\">\n",
       "  <thead>\n",
       "    <tr style=\"text-align: right;\">\n",
       "      <th></th>\n",
       "      <th>rqa_fs_mean</th>\n",
       "      <th>rqa_embedding_dim_mean</th>\n",
       "      <th>rqa_delay_mean</th>\n",
       "    </tr>\n",
       "  </thead>\n",
       "  <tbody>\n",
       "    <tr>\n",
       "      <th>count</th>\n",
       "      <td>800.0</td>\n",
       "      <td>800.0</td>\n",
       "      <td>800.0</td>\n",
       "    </tr>\n",
       "    <tr>\n",
       "      <th>mean</th>\n",
       "      <td>0.0</td>\n",
       "      <td>0.0</td>\n",
       "      <td>0.0</td>\n",
       "    </tr>\n",
       "    <tr>\n",
       "      <th>std</th>\n",
       "      <td>0.0</td>\n",
       "      <td>0.0</td>\n",
       "      <td>0.0</td>\n",
       "    </tr>\n",
       "    <tr>\n",
       "      <th>min</th>\n",
       "      <td>0.0</td>\n",
       "      <td>0.0</td>\n",
       "      <td>0.0</td>\n",
       "    </tr>\n",
       "    <tr>\n",
       "      <th>25%</th>\n",
       "      <td>0.0</td>\n",
       "      <td>0.0</td>\n",
       "      <td>0.0</td>\n",
       "    </tr>\n",
       "    <tr>\n",
       "      <th>50%</th>\n",
       "      <td>0.0</td>\n",
       "      <td>0.0</td>\n",
       "      <td>0.0</td>\n",
       "    </tr>\n",
       "    <tr>\n",
       "      <th>75%</th>\n",
       "      <td>0.0</td>\n",
       "      <td>0.0</td>\n",
       "      <td>0.0</td>\n",
       "    </tr>\n",
       "    <tr>\n",
       "      <th>max</th>\n",
       "      <td>0.0</td>\n",
       "      <td>0.0</td>\n",
       "      <td>0.0</td>\n",
       "    </tr>\n",
       "  </tbody>\n",
       "</table>\n",
       "</div>"
      ],
      "text/plain": [
       "       rqa_fs_mean  rqa_embedding_dim_mean  rqa_delay_mean\n",
       "count        800.0                   800.0           800.0\n",
       "mean           0.0                     0.0             0.0\n",
       "std            0.0                     0.0             0.0\n",
       "min            0.0                     0.0             0.0\n",
       "25%            0.0                     0.0             0.0\n",
       "50%            0.0                     0.0             0.0\n",
       "75%            0.0                     0.0             0.0\n",
       "max            0.0                     0.0             0.0"
      ]
     },
     "execution_count": 23,
     "metadata": {},
     "output_type": "execute_result"
    }
   ],
   "source": [
    "X_train[[\"rqa_fs_mean\", \"rqa_embedding_dim_mean\", \"rqa_delay_mean\"]].describe()"
   ]
  }
 ],
 "metadata": {
  "kernelspec": {
   "display_name": "sensory-translation",
   "language": "python",
   "name": "python3"
  },
  "language_info": {
   "codemirror_mode": {
    "name": "ipython",
    "version": 3
   },
   "file_extension": ".py",
   "mimetype": "text/x-python",
   "name": "python",
   "nbconvert_exporter": "python",
   "pygments_lexer": "ipython3",
   "version": "3.10.16"
  }
 },
 "nbformat": 4,
 "nbformat_minor": 5
}
