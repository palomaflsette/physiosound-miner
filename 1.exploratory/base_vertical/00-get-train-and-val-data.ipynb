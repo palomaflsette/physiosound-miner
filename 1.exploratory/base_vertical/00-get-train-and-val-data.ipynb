{
 "cells": [
  {
   "cell_type": "code",
   "execution_count": null,
   "id": "39625f3e",
   "metadata": {},
   "outputs": [],
   "source": [
    "import sys\n",
    "import os\n",
    "sys.path.append(os.path.abspath(\"../..\"))\n",
    "\n",
    "from scipy.stats import f_oneway\n",
    "import matplotlib.pyplot as plt\n",
    "import seaborn as sns\n",
    "from sklearn.preprocessing import StandardScaler\n",
    "from sklearn.ensemble import RandomForestClassifier\n",
    "from sklearn.model_selection import train_test_split\n",
    "from sklearn.manifold import TSNE\n",
    "from sklearn.decomposition import PCA\n",
    "import plotly.express as px\n",
    "import pandas as pd\n",
    "import numpy as np\n",
    "from tqdm import tqdm"
   ]
  },
  {
   "cell_type": "markdown",
   "id": "22210ad7",
   "metadata": {},
   "source": [
    "### Carregando os dados integralmente"
   ]
  },
  {
   "cell_type": "code",
   "execution_count": null,
   "id": "d71ed059",
   "metadata": {},
   "outputs": [],
   "source": [
    "df_agg_cod = pd.read_excel(\n",
    "    '../../datasets/base_vertical/intermediate/HS_agregado_codificado_20windows.xlsx')"
   ]
  },
  {
   "cell_type": "markdown",
   "id": "f3d3a1e0",
   "metadata": {},
   "source": [
    "### Separando em treino e validação."
   ]
  },
  {
   "cell_type": "code",
   "execution_count": null,
   "id": "986fab6a",
   "metadata": {},
   "outputs": [],
   "source": [
    "colunas_classes = [\n",
    "    col for col in df_agg_cod.columns if col.startswith('Heart Sound Type_')]\n",
    "\n",
    "X_total = df_agg_cod.drop(columns=colunas_classes)\n",
    "y_total = df_agg_cod[\"Heart Sound Type_Normal\"]\n",
    "\n",
    "X_train, X_val, y_train, y_val = train_test_split(\n",
    "    X_total, y_total, test_size=0.2, stratify=y_total)\n",
    "\n",
    "X_train.assign(Heart_Sound_Type_Normal=y_train).to_excel(\n",
    "    \"../../datasets/base_vertical/train/train_binario.xlsx\", index=False)\n",
    "X_val.assign(Heart_Sound_Type_Normal=y_val).to_excel(\n",
    "    \"../../datasets/base_vertical/val/val_binario.xlsx\", index=False)"
   ]
  },
  {
   "cell_type": "markdown",
   "id": "4d76b6b1",
   "metadata": {},
   "source": [
    "### Normalizando os dados"
   ]
  },
  {
   "cell_type": "code",
   "execution_count": null,
   "id": "f791291c",
   "metadata": {},
   "outputs": [],
   "source": [
    "dummy_cols = [col for col in df_agg_cod.columns\n",
    "              if df_agg_cod[col].dropna().isin([0, 1]).all() and df_agg_cod[col].nunique() <= 2]\n",
    "non_dummy_cols = [col for col in df_agg_cod.columns if col not in dummy_cols]\n",
    "\n",
    "sca = StandardScaler()\n",
    "\n",
    "X_train_scaled = sca.fit_transform(X_train[non_dummy_cols])\n",
    "X_train = pd.DataFrame(X_train_scaled, columns=non_dummy_cols)\n",
    "\n",
    "\n",
    "X_val_scaled = sca.transform(X_val[non_dummy_cols])\n",
    "X_val = pd.DataFrame(X_val_scaled, columns=non_dummy_cols)\n",
    "\n",
    "\n",
    "X_train.to_excel(\n",
    "    \"../../datasets/base_vertical/train/train_binario_normalized.xlsx\", index=False)\n",
    "X_val.assign(Heart_Sound_Type_Normal=y_val).to_excel(\n",
    "    \"../../datasets/base_vertical/val/val_binario_normalized.xlsx\", index=False)"
   ]
  },
  {
   "cell_type": "code",
   "execution_count": null,
   "id": "78558945",
   "metadata": {},
   "outputs": [
    {
     "data": {
      "text/plain": [
       "Heart_Sound_Type_Normal      1.000000\n",
       "variacao_curvatura_std       0.071450\n",
       "comprimento_curva_std        0.059091\n",
       "mudanca_media_direcao_std    0.058131\n",
       "mfcc_1_mean                  0.057869\n",
       "                               ...   \n",
       "zero_crossing_rate_mean     -0.072901\n",
       "centro_y_mean               -0.123374\n",
       "rqa_fs_mean                       NaN\n",
       "rqa_embedding_dim_mean            NaN\n",
       "rqa_delay_mean                    NaN\n",
       "Name: Heart_Sound_Type_Normal, Length: 67, dtype: float64"
      ]
     },
     "execution_count": 22,
     "metadata": {},
     "output_type": "execute_result"
    }
   ],
   "source": [
    "X_train[\"Heart_Sound_Type_Normal\"] = y_train\n",
    "X_train.corr()[\"Heart_Sound_Type_Normal\"].sort_values(ascending=False)"
   ]
  },
  {
   "cell_type": "code",
   "execution_count": 23,
   "id": "1b44b237",
   "metadata": {},
   "outputs": [
    {
     "data": {
      "text/html": [
       "<div>\n",
       "<style scoped>\n",
       "    .dataframe tbody tr th:only-of-type {\n",
       "        vertical-align: middle;\n",
       "    }\n",
       "\n",
       "    .dataframe tbody tr th {\n",
       "        vertical-align: top;\n",
       "    }\n",
       "\n",
       "    .dataframe thead th {\n",
       "        text-align: right;\n",
       "    }\n",
       "</style>\n",
       "<table border=\"1\" class=\"dataframe\">\n",
       "  <thead>\n",
       "    <tr style=\"text-align: right;\">\n",
       "      <th></th>\n",
       "      <th>rqa_fs_mean</th>\n",
       "      <th>rqa_embedding_dim_mean</th>\n",
       "      <th>rqa_delay_mean</th>\n",
       "    </tr>\n",
       "  </thead>\n",
       "  <tbody>\n",
       "    <tr>\n",
       "      <th>count</th>\n",
       "      <td>800.0</td>\n",
       "      <td>800.0</td>\n",
       "      <td>800.0</td>\n",
       "    </tr>\n",
       "    <tr>\n",
       "      <th>mean</th>\n",
       "      <td>0.0</td>\n",
       "      <td>0.0</td>\n",
       "      <td>0.0</td>\n",
       "    </tr>\n",
       "    <tr>\n",
       "      <th>std</th>\n",
       "      <td>0.0</td>\n",
       "      <td>0.0</td>\n",
       "      <td>0.0</td>\n",
       "    </tr>\n",
       "    <tr>\n",
       "      <th>min</th>\n",
       "      <td>0.0</td>\n",
       "      <td>0.0</td>\n",
       "      <td>0.0</td>\n",
       "    </tr>\n",
       "    <tr>\n",
       "      <th>25%</th>\n",
       "      <td>0.0</td>\n",
       "      <td>0.0</td>\n",
       "      <td>0.0</td>\n",
       "    </tr>\n",
       "    <tr>\n",
       "      <th>50%</th>\n",
       "      <td>0.0</td>\n",
       "      <td>0.0</td>\n",
       "      <td>0.0</td>\n",
       "    </tr>\n",
       "    <tr>\n",
       "      <th>75%</th>\n",
       "      <td>0.0</td>\n",
       "      <td>0.0</td>\n",
       "      <td>0.0</td>\n",
       "    </tr>\n",
       "    <tr>\n",
       "      <th>max</th>\n",
       "      <td>0.0</td>\n",
       "      <td>0.0</td>\n",
       "      <td>0.0</td>\n",
       "    </tr>\n",
       "  </tbody>\n",
       "</table>\n",
       "</div>"
      ],
      "text/plain": [
       "       rqa_fs_mean  rqa_embedding_dim_mean  rqa_delay_mean\n",
       "count        800.0                   800.0           800.0\n",
       "mean           0.0                     0.0             0.0\n",
       "std            0.0                     0.0             0.0\n",
       "min            0.0                     0.0             0.0\n",
       "25%            0.0                     0.0             0.0\n",
       "50%            0.0                     0.0             0.0\n",
       "75%            0.0                     0.0             0.0\n",
       "max            0.0                     0.0             0.0"
      ]
     },
     "execution_count": 23,
     "metadata": {},
     "output_type": "execute_result"
    }
   ],
   "source": [
    "X_train[[\"rqa_fs_mean\", \"rqa_embedding_dim_mean\", \"rqa_delay_mean\"]].describe()"
   ]
  }
 ],
 "metadata": {
  "kernelspec": {
   "display_name": "sensory-translation",
   "language": "python",
   "name": "python3"
  },
  "language_info": {
   "codemirror_mode": {
    "name": "ipython",
    "version": 3
   },
   "file_extension": ".py",
   "mimetype": "text/x-python",
   "name": "python",
   "nbconvert_exporter": "python",
   "pygments_lexer": "ipython3",
   "version": "3.10.16"
  }
 },
 "nbformat": 4,
 "nbformat_minor": 5
}
